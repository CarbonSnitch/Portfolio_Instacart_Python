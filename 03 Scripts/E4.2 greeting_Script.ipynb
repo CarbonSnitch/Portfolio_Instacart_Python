{
 "cells": [
  {
   "cell_type": "markdown",
   "id": "d834b258-adb5-4cc4-954d-f9924f524894",
   "metadata": {},
   "source": [
    "# Contents\n",
    "\n",
    "- Saying hello to Halima"
   ]
  },
  {
   "cell_type": "code",
   "execution_count": 2,
   "id": "f5b62739-9a8c-456c-9c74-90ab35b82561",
   "metadata": {},
   "outputs": [],
   "source": [
    "# Import Libraries\n",
    "import pandas as pd\n",
    "import numpy as np\n",
    "import os"
   ]
  },
  {
   "cell_type": "code",
   "execution_count": 4,
   "id": "5a7618d4-e031-42ac-a8d2-4bab1abe188c",
   "metadata": {},
   "outputs": [
    {
     "data": {
      "text/plain": [
       "100"
      ]
     },
     "execution_count": 4,
     "metadata": {},
     "output_type": "execute_result"
    }
   ],
   "source": [
    "# Python Data Types\n",
    "90+10"
   ]
  },
  {
   "cell_type": "code",
   "execution_count": 5,
   "id": "3b54b9f3-0028-436b-95b8-eda7b346b4d3",
   "metadata": {},
   "outputs": [
    {
     "data": {
      "text/plain": [
       "100"
      ]
     },
     "execution_count": 5,
     "metadata": {},
     "output_type": "execute_result"
    }
   ],
   "source": [
    "80+20"
   ]
  },
  {
   "cell_type": "code",
   "execution_count": 6,
   "id": "2797626f-1f9c-4bd9-b531-4aa2de690726",
   "metadata": {},
   "outputs": [
    {
     "data": {
      "text/plain": [
       "100"
      ]
     },
     "execution_count": 6,
     "metadata": {},
     "output_type": "execute_result"
    }
   ],
   "source": [
    "70+30"
   ]
  },
  {
   "cell_type": "code",
   "execution_count": 7,
   "id": "f545dde2-7ad0-49cf-85bc-aaa5b75ebb48",
   "metadata": {},
   "outputs": [
    {
     "data": {
      "text/plain": [
       "2.0"
      ]
     },
     "execution_count": 7,
     "metadata": {},
     "output_type": "execute_result"
    }
   ],
   "source": [
    "10.5/5.25"
   ]
  },
  {
   "cell_type": "code",
   "execution_count": 8,
   "id": "c0fd2d05-3195-4717-8244-cefba0241b33",
   "metadata": {},
   "outputs": [
    {
     "data": {
      "text/plain": [
       "2.0"
      ]
     },
     "execution_count": 8,
     "metadata": {},
     "output_type": "execute_result"
    }
   ],
   "source": [
    "20.5/10.25"
   ]
  },
  {
   "cell_type": "code",
   "execution_count": 27,
   "id": "42a4a6fc-e797-43dc-831a-8d63c500249b",
   "metadata": {},
   "outputs": [],
   "source": [
    "a= 'Hello '\n",
    "b= 'Halima, '\n",
    "c= 'how '\n",
    "d= 'are '\n",
    "e= 'you? '\n",
    "f= 'I '\n",
    "g= 'hope '\n",
    "h= 'well.'"
   ]
  },
  {
   "cell_type": "code",
   "execution_count": 28,
   "id": "2ff5e2d5-d7f3-4faa-a595-544a631da892",
   "metadata": {},
   "outputs": [
    {
     "data": {
      "text/plain": [
       "'Hello Halima, how are you? I hope well.'"
      ]
     },
     "execution_count": 28,
     "metadata": {},
     "output_type": "execute_result"
    }
   ],
   "source": [
    "a+b+c+d+e+f+g+h"
   ]
  },
  {
   "cell_type": "code",
   "execution_count": null,
   "id": "7bfa29d6-0bb7-4277-bbc9-d9d372092d22",
   "metadata": {},
   "outputs": [],
   "source": []
  }
 ],
 "metadata": {
  "kernelspec": {
   "display_name": "Python [conda env:base] *",
   "language": "python",
   "name": "conda-base-py"
  },
  "language_info": {
   "codemirror_mode": {
    "name": "ipython",
    "version": 3
   },
   "file_extension": ".py",
   "mimetype": "text/x-python",
   "name": "python",
   "nbconvert_exporter": "python",
   "pygments_lexer": "ipython3",
   "version": "3.13.5"
  }
 },
 "nbformat": 4,
 "nbformat_minor": 5
}
